{
 "cells": [
  {
   "cell_type": "markdown",
   "metadata": {},
   "source": [
    "# Map"
   ]
  },
  {
   "cell_type": "code",
   "execution_count": null,
   "metadata": {},
   "outputs": [],
   "source": [
    "import folium\n",
    "from folium.plugins import DualMap\n",
    "from folium.plugins import MarkerCluster\n",
    "import pandas as pd"
   ]
  },
  {
   "cell_type": "code",
   "execution_count": null,
   "metadata": {},
   "outputs": [],
   "source": [
    "schools = pd.read_csv('Quebec/school_v3.csv', encoding='utf-8-sig')\n",
    "Done2 = pd.read_excel('Organized.xlsx')"
   ]
  },
  {
   "cell_type": "code",
   "execution_count": null,
   "metadata": {},
   "outputs": [],
   "source": [
    "m=DualMap([55.585901,-105.7],zoom_start=3)\n",
    "\n",
    "m2=folium.Map(location=[53, -70],\n",
    "    zoom_start=5\n",
    ")\n",
    "\n",
    "cl_primary = MarkerCluster(name='Primary').add_to(m.m2)\n",
    "cl_secondary = MarkerCluster(name='Secondary').add_to(m.m2)\n",
    "cl_both = MarkerCluster(name='Both').add_to(m.m2)\n",
    "cl_others = MarkerCluster(name='Others').add_to(m.m2)\n",
    "\n",
    "for x in schools.iterrows():\n",
    "    if x[1]['school_level']!='':\n",
    "        if x[1]['school_level']=='Primaire':\n",
    "            folium.Marker([x[1].lat, x[1].lng],\n",
    "                     popup = x[1]['name'], icon=folium.Icon(icon=\"book\")).add_to(cl_primary)\n",
    "        elif x[1]['school_level'] == 'Secondaire':\n",
    "            folium.Marker([x[1].lat, x[1].lng],\n",
    "                     popup = x[1]['name'], icon=folium.Icon(icon=\"book\")).add_to(cl_secondary)\n",
    "        elif ('Primarie' and 'Secondaire') in str(x[1]['school_level']):\n",
    "            folium.Marker([x[1].lat, x[1].lng],\n",
    "                     popup = x[1]['name'], icon=folium.Icon(icon=\"book\")).add_to(cl_both)\n",
    "        else:\n",
    "            folium.Marker([x[1].lat, x[1].lng],\n",
    "                     popup = x[1]['name'], icon=folium.Icon(icon=\"book\")).add_to(cl_others)\n",
    "# for x in schools.iterrows():\n",
    "#     folium.Marker([x[1].lat, x[1].lng],\n",
    "#                  popup = x[1]['name'], icon=folium.Icon(icon=\"book\")).add_to(cl_secondary)\n",
    "# folium.LayerControl(Collapse=True).add_to(m)\n",
    "\n",
    "\n",
    "\n",
    "m1 = folium.Map(\n",
    "    location=[53.726669, -127.647621],\n",
    "    zoom_start=5\n",
    ")\n",
    "\n",
    "cl_private = MarkerCluster(name='Private College').add_to(m.m1)\n",
    "cl_public = MarkerCluster(name='Public').add_to(m.m1)\n",
    "cl_out = MarkerCluster(name='Out of Province').add_to(m.m1)\n",
    "cl_theo = MarkerCluster(name='Theological').add_to(m.m1)\n",
    "cl_close = MarkerCluster(name='Closed').add_to(m.m1)\n",
    "folium.Marker([-21.805269, -49.090058], popup='man', icon=folium.Icon(icon='user')).add_to(m.m1)\n",
    "folium.Marker([56.1852,-4.0499], icon=folium.Icon(color='orange', icon='user'), popup = 'Python').add_to(m.m2)\n",
    "for x in Done2.iterrows():\n",
    "    if x[1]['Status'] == 'Closed':\n",
    "        folium.Marker([x[1].lat, x[1].lng],\n",
    "                 popup = x[1]['name'], icon=folium.Icon(color = 'red', icon=\"book\")).add_to(cl_close)\n",
    "    elif x[1]['Status'] == 'Public':\n",
    "        folium.Marker([x[1].lat, x[1].lng],\n",
    "                 popup = x[1]['name'], icon=folium.Icon(color = 'blue', icon=\"book\")).add_to(cl_public)\n",
    "    elif x[1]['Status'] == 'Out of Province':\n",
    "        folium.Marker([x[1].lat, x[1].lng],\n",
    "                 popup = x[1]['name'], icon=folium.Icon(color = 'gray', icon=\"book\")).add_to(cl_out)\n",
    "    elif x[1]['Status'] == 'Theological':\n",
    "        folium.Marker([x[1].lat, x[1].lng],\n",
    "                 popup = x[1]['name'], icon=folium.Icon(color = 'white', icon=\"book\")).add_to(cl_theo)\n",
    "    else:\n",
    "        folium.Marker([x[1].lat, x[1].lng],\n",
    "                 popup = x[1]['name'], icon=folium.Icon(color = 'green', icon=\"book\")).add_to(cl_private)\n",
    "m.add_child(m.m2)\n",
    "folium.LayerControl(Collapse=True).add_to(m.m1)\n",
    "folium.LayerControl(Collapse=True).add_to(m.m2)\n",
    "m.save('testing2.html')"
   ]
  },
  {
   "cell_type": "markdown",
   "metadata": {},
   "source": [
    "# Plots"
   ]
  },
  {
   "cell_type": "markdown",
   "metadata": {},
   "source": [
    "### Quebec"
   ]
  },
  {
   "cell_type": "code",
   "execution_count": null,
   "metadata": {},
   "outputs": [],
   "source": [
    "import plotly.offline as py\n",
    "import plotly.graph_objs as go\n",
    "%matplotlib inline"
   ]
  },
  {
   "cell_type": "code",
   "execution_count": null,
   "metadata": {},
   "outputs": [],
   "source": [
    "schools = pd.read_csv('Quebec/school_v3.csv')"
   ]
  },
  {
   "cell_type": "code",
   "execution_count": null,
   "metadata": {},
   "outputs": [],
   "source": [
    "Primary = []\n",
    "Secondary = []\n",
    "Both = []\n",
    "Others = []\n",
    "for x in schools.iterrows():\n",
    "    if x[1]['school_level']=='Primaire':\n",
    "        Primary += [x[1]]\n",
    "    elif x[1]['school_level'] == 'Secondaire':\n",
    "        Secondary += [x[1]]\n",
    "    elif ('Primarie' and 'Secondaire') in str(x[1]['school_level']):\n",
    "        Both += [x[1]]\n",
    "    else: Others += [x[1]]"
   ]
  },
  {
   "cell_type": "code",
   "execution_count": null,
   "metadata": {},
   "outputs": [],
   "source": [
    "Primary = pd.DataFrame(Primary)\n",
    "Secondary = pd.DataFrame(Secondary)\n",
    "Both = pd.DataFrame(Both)\n",
    "Others = pd.DataFrame(Others)"
   ]
  },
  {
   "cell_type": "code",
   "execution_count": null,
   "metadata": {},
   "outputs": [],
   "source": [
    "P = Primary.groupby('city')['name'].count()\n",
    "S = Secondary.groupby('city')['name'].count()\n",
    "B = Both.groupby('city')['name'].count()\n",
    "O = Others.groupby('city')['name'].count()"
   ]
  },
  {
   "cell_type": "code",
   "execution_count": null,
   "metadata": {},
   "outputs": [],
   "source": [
    "fig = go.Figure(data=[\n",
    "    go.Bar(name='Primary', x=P.index, y=P.values),\n",
    "    go.Bar(name='Secondary', x=S.index, y=S.values),\n",
    "    go.Bar(name='Both', x=B.index, y=B.values),\n",
    "    go.Bar(name='Others', x=O.index, y=O.index)\n",
    "])\n",
    "fig.update_layout(barmode='group')\n",
    "py.plot(fig)"
   ]
  },
  {
   "cell_type": "markdown",
   "metadata": {},
   "source": [
    "### BC"
   ]
  },
  {
   "cell_type": "code",
   "execution_count": null,
   "metadata": {},
   "outputs": [],
   "source": [
    "Done = pd.read_excel('Done.xlsx')\n",
    "Done.set_index('UID')"
   ]
  },
  {
   "cell_type": "code",
   "execution_count": null,
   "metadata": {},
   "outputs": [],
   "source": [
    "count_by_city = Done.groupby('City')['Name'].count()"
   ]
  },
  {
   "cell_type": "code",
   "execution_count": null,
   "metadata": {},
   "outputs": [],
   "source": [
    "grouped_data=go.Bar(\n",
    "    x = count_by_city.index,\n",
    "    y = count_by_city.values\n",
    ")\n",
    "py.plot([grouped_data])"
   ]
  }
 ],
 "metadata": {
  "kernelspec": {
   "display_name": "Python 3",
   "language": "python",
   "name": "python3"
  },
  "language_info": {
   "codemirror_mode": {
    "name": "ipython",
    "version": 3
   },
   "file_extension": ".py",
   "mimetype": "text/x-python",
   "name": "python",
   "nbconvert_exporter": "python",
   "pygments_lexer": "ipython3",
   "version": "3.7.4"
  }
 },
 "nbformat": 4,
 "nbformat_minor": 2
}
